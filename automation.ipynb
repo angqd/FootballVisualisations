{
 "cells": [
  {
   "cell_type": "code",
   "execution_count": 2,
   "metadata": {},
   "outputs": [
    {
     "ename": "ModuleNotFoundError",
     "evalue": "No module named 'pywhatkit'",
     "output_type": "error",
     "traceback": [
      "\u001b[0;31m---------------------------------------------------------------------------\u001b[0m",
      "\u001b[0;31mModuleNotFoundError\u001b[0m                       Traceback (most recent call last)",
      "Cell \u001b[0;32mIn[2], line 1\u001b[0m\n\u001b[0;32m----> 1\u001b[0m \u001b[38;5;28;01mimport\u001b[39;00m \u001b[38;5;21;01mpywhatkit\u001b[39;00m\n\u001b[1;32m      2\u001b[0m \u001b[38;5;28;01mimport\u001b[39;00m \u001b[38;5;21;01mdatetime\u001b[39;00m\n\u001b[1;32m      3\u001b[0m \u001b[38;5;28;01mimport\u001b[39;00m \u001b[38;5;21;01mrandom\u001b[39;00m\n",
      "\u001b[0;31mModuleNotFoundError\u001b[0m: No module named 'pywhatkit'"
     ]
    }
   ],
   "source": [
    "import pywhatkit as py\n",
    "import datetime\n",
    "import random\n",
    "\n",
    "# List of pickup lines and cute quotes\n",
    "messages = [\n",
    "    \"Are you a magician? Because whenever I look at you, everyone else disappears!\",\n",
    "    \"I must be a snowflake, because I've fallen for you.\",\n",
    "    \"Your smile is so bright, it makes the sun jealous.\",\n",
    "    \"If you were a vegetable, you'd be a cute-cumber!\",\n",
    "    \"You're the reason I wake up with a smile every day.\"\n",
    "]\n",
    "\n",
    "# Your girlfriend's phone number (including country code)\n",
    "phone_number = \"+917688994301\"\n",
    "\n",
    "def send_daily_message():\n",
    "    # Get current time\n",
    "    now = datetime.datetime.now()\n",
    "    \n",
    "    # Select a random message\n",
    "    message = random.choice(messages)\n",
    "    \n",
    "    # Send message\n",
    "    pywhatkit.sendwhatmsg(phone_number, message, now.hour, now.minute + 1)\n",
    "\n",
    "# Run the function\n",
    "send_daily_message()\n"
   ]
  }
 ],
 "metadata": {
  "kernelspec": {
   "display_name": "myenv",
   "language": "python",
   "name": "python3"
  },
  "language_info": {
   "codemirror_mode": {
    "name": "ipython",
    "version": 3
   },
   "file_extension": ".py",
   "mimetype": "text/x-python",
   "name": "python",
   "nbconvert_exporter": "python",
   "pygments_lexer": "ipython3",
   "version": "3.11.2"
  }
 },
 "nbformat": 4,
 "nbformat_minor": 2
}
